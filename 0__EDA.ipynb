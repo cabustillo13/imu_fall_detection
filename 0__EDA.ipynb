{
  "nbformat": 4,
  "nbformat_minor": 0,
  "metadata": {
    "colab": {
      "provenance": [],
      "gpuType": "T4"
    },
    "kernelspec": {
      "name": "python3",
      "display_name": "Python 3"
    },
    "language_info": {
      "name": "python"
    },
    "accelerator": "GPU"
  },
  "cells": [
    {
      "cell_type": "markdown",
      "source": [
        "# Exploratory Data Analysis (EDA)\n",
        "\n",
        "**Carlos Bustillo | Prosigliere Tech Interview**\n",
        "<br>I'm using GPU T4 on Google Colab"
      ],
      "metadata": {
        "id": "yAL7z6jZMqxJ"
      }
    },
    {
      "cell_type": "markdown",
      "source": [
        "## 0) Dependencies"
      ],
      "metadata": {
        "id": "jJJHk92vM2VD"
      }
    },
    {
      "cell_type": "code",
      "execution_count": 1,
      "metadata": {
        "id": "AK0dHjOfMnL8"
      },
      "outputs": [],
      "source": [
        "import os\n",
        "import glob\n",
        "import joblib\n",
        "\n",
        "import logging\n",
        "from dataclasses import dataclass, field\n",
        "from typing import List, Dict, Any\n",
        "\n",
        "import numpy as np\n",
        "import pandas as pd\n",
        "\n",
        "from scipy.signal import butter, filtfilt\n",
        "\n",
        "from sklearn.model_selection import train_test_split\n",
        "from sklearn.preprocessing import MinMaxScaler\n",
        "from sklearn.model_selection import GroupShuffleSplit\n",
        "\n",
        "import matplotlib.pyplot as plt\n",
        "import seaborn as sns"
      ]
    },
    {
      "cell_type": "markdown",
      "source": [
        "## 1) Config params"
      ],
      "metadata": {
        "id": "u_ByF7YQM5qj"
      }
    },
    {
      "cell_type": "markdown",
      "source": [
        "**Access to Google Drive folders**\n",
        "\n",
        "If you are in local (your computer), this block is not necessary"
      ],
      "metadata": {
        "id": "U8Y5aCWON7kL"
      }
    },
    {
      "cell_type": "code",
      "source": [
        "from google.colab import drive\n",
        "drive.mount('/content/drive')"
      ],
      "metadata": {
        "colab": {
          "base_uri": "https://localhost:8080/"
        },
        "id": "dNnX_bFgN-5E",
        "outputId": "d66ceef5-09e2-45a5-d582-d9f5fb9adcf7"
      },
      "execution_count": 2,
      "outputs": [
        {
          "output_type": "stream",
          "name": "stdout",
          "text": [
            "Drive already mounted at /content/drive; to attempt to forcibly remount, call drive.mount(\"/content/drive\", force_remount=True).\n"
          ]
        }
      ]
    },
    {
      "cell_type": "markdown",
      "source": [
        "**Configuration with dataclass**"
      ],
      "metadata": {
        "id": "s80Fd0i6Ng2x"
      }
    },
    {
      "cell_type": "code",
      "source": [
        "@dataclass\n",
        "class Config:\n",
        "\n",
        "    # Path to your dataset\n",
        "    dataset_path: str = \"/content/drive/MyDrive/Prosigliere/AI_ML_Challenge\"\n",
        "\n",
        "    # \"…sensors recording at 128 Hz at 7 body locations…\" -> It was extracted from the paper.\n",
        "    sampling_rate_hz: int = 128\n",
        "\n",
        "    # 2.5 * 128 = 320 samples\n",
        "    window_seconds: float = 2.5\n",
        "    # 1.5 * 128 = 192 samples\n",
        "    overlap_seconds: float = 1.5\n",
        "\n",
        "    locations: List[str] = field(default_factory=lambda: [\n",
        "        'r.ankle','l.ankle','r.thigh','l.thigh','head','sternum','waist'\n",
        "    ])\n",
        "    trial_types: Dict[str,int] = field(default_factory=lambda: {\n",
        "        'ADLs':0,'Falls':1,'Near_Falls':2\n",
        "    })\n",
        "    eda_output_dir: str = \"eda_outputs\"\n",
        "\n",
        "    # Low pass filter\n",
        "    lowpass_cutoff: float = 20.0\n",
        "    lowpass_order: int = 4\n",
        "\n",
        "    @property\n",
        "    def window_size(self) -> int:\n",
        "        return int(self.window_seconds * self.sampling_rate_hz)\n",
        "\n",
        "    @property\n",
        "    def step_size(self) -> int:\n",
        "        return self.window_size - int(self.overlap_seconds * self.sampling_rate_hz)"
      ],
      "metadata": {
        "id": "BCv0Q9SEM8rX"
      },
      "execution_count": 3,
      "outputs": []
    },
    {
      "cell_type": "code",
      "source": [
        "cfg = Config()"
      ],
      "metadata": {
        "id": "BUtEvdNSNczj"
      },
      "execution_count": 4,
      "outputs": []
    },
    {
      "cell_type": "markdown",
      "source": [
        "**Logging**"
      ],
      "metadata": {
        "id": "v3YrJtyANmAY"
      }
    },
    {
      "cell_type": "code",
      "source": [
        "logging.basicConfig(\n",
        "    level=logging.INFO,\n",
        "    format=\"%(asctime)s [%(levelname)s] %(message)s\"\n",
        ")\n",
        "logger = logging.getLogger()"
      ],
      "metadata": {
        "id": "uv68bltbNnsF"
      },
      "execution_count": 5,
      "outputs": []
    },
    {
      "cell_type": "markdown",
      "source": [
        "## 2) Load the data"
      ],
      "metadata": {
        "id": "qENHzCFnO2T7"
      }
    },
    {
      "cell_type": "markdown",
      "source": [
        "**Load all the xlsx files into a dataframe**"
      ],
      "metadata": {
        "id": "HL2RUG_xO_cC"
      }
    },
    {
      "cell_type": "code",
      "source": [
        "def load_data(path: str) -> pd.DataFrame:\n",
        "    trials = []\n",
        "\n",
        "    for subdir in sorted(glob.glob(os.path.join(path, \"sub*\"))):\n",
        "        subject = os.path.basename(subdir)\n",
        "        for ttype,label in cfg.trial_types.items():\n",
        "            for f in glob.glob(os.path.join(subdir, ttype, \"*.xlsx\")):\n",
        "                try:\n",
        "                    df = pd.read_excel(f)\n",
        "                    df['subject']=subject\n",
        "                    df['trial_type']=ttype\n",
        "                    df['label']=label\n",
        "                    trials.append(df)\n",
        "                except Exception as e:\n",
        "                    logger.warning(f\"Error reading {f}: {e}\")\n",
        "\n",
        "    if not trials:\n",
        "        raise FileNotFoundError(\"No .xlsx files were found.\")\n",
        "\n",
        "    data = pd.concat(trials, ignore_index=True)\n",
        "    logger.info(f\"The files were loaded: {data.shape}\")\n",
        "\n",
        "    return data"
      ],
      "metadata": {
        "id": "U-mGfCroO6bF"
      },
      "execution_count": 6,
      "outputs": []
    },
    {
      "cell_type": "markdown",
      "source": [
        "This took ~19 minutes"
      ],
      "metadata": {
        "id": "5I-egsX-aJKb"
      }
    },
    {
      "cell_type": "code",
      "source": [
        "data_raw = load_data(cfg.dataset_path)"
      ],
      "metadata": {
        "id": "adq0CU_eQO-o"
      },
      "execution_count": 7,
      "outputs": []
    },
    {
      "cell_type": "markdown",
      "source": [
        "## 3) Preprocessing"
      ],
      "metadata": {
        "id": "wo08b8mfQa-z"
      }
    },
    {
      "cell_type": "markdown",
      "source": [
        "**Butterworth Low Pass Filter**"
      ],
      "metadata": {
        "id": "KZiuatzCQgoZ"
      }
    },
    {
      "cell_type": "code",
      "source": [
        "def butter_lowpass_filter(data, cutoff, fs, order):\n",
        "\n",
        "    b,a = butter(order, cutoff/(0.5*fs), btype='low')\n",
        "\n",
        "    return filtfilt(b, a, data)"
      ],
      "metadata": {
        "id": "DE1pfjGjQz8p"
      },
      "execution_count": 8,
      "outputs": []
    },
    {
      "cell_type": "markdown",
      "source": [
        "**Preprocessing**"
      ],
      "metadata": {
        "id": "gwavZJvjRBLz"
      }
    },
    {
      "cell_type": "code",
      "source": [
        "def preprocess(df: pd.DataFrame) -> pd.DataFrame:\n",
        "    logger.info(\"Preprocessing starts now...\")\n",
        "\n",
        "    # Convert and infer types\n",
        "    df['timestamp'] = pd.to_datetime(df['Time'], unit='us')\n",
        "    df = df.infer_objects()\n",
        "\n",
        "    # Time‑based interpolation\n",
        "    df = df.set_index('timestamp')\n",
        "    df.interpolate(method='time', limit_direction='both', inplace=True)\n",
        "    df = df.reset_index()\n",
        "\n",
        "    # Fill NaN values\n",
        "    df.ffill(inplace=True)\n",
        "    df.bfill(inplace=True)\n",
        "\n",
        "    # Restore index & compute Time_s\n",
        "    df['Time_s'] = df.index.astype(int) / 1e9\n",
        "    df = df.reset_index(drop=False)\n",
        "\n",
        "    # Filtering noise in magnetometers\n",
        "    # \"Magnetic field data from the sternum and waist sensors may be noisier than data from other sensors.\"\n",
        "    for loc in ['sternum','waist']:\n",
        "        for ax in ['X','Y','Z']:\n",
        "            col = f\"{loc} Magnetic Field {ax} (uT)\"\n",
        "            if col in df:\n",
        "                df[col] = butter_lowpass_filter(\n",
        "                    df[col].values,\n",
        "                    cfg.lowpass_cutoff,\n",
        "                    cfg.sampling_rate_hz,\n",
        "                    cfg.lowpass_order\n",
        "                )\n",
        "\n",
        "    logger.info(\"The preprocessing was completed.\")\n",
        "\n",
        "    return df"
      ],
      "metadata": {
        "id": "Tp8jvv0edyAO"
      },
      "execution_count": 9,
      "outputs": []
    },
    {
      "cell_type": "code",
      "source": [
        "data_pre = preprocess(data_raw)"
      ],
      "metadata": {
        "colab": {
          "base_uri": "https://localhost:8080/"
        },
        "id": "LQqCUM5PRoXz",
        "outputId": "fa80c9df-4d8e-46df-9aaa-e7bd4f04d761"
      },
      "execution_count": 10,
      "outputs": [
        {
          "output_type": "stream",
          "name": "stderr",
          "text": [
            "/tmp/ipython-input-9-3872705236.py:10: FutureWarning: DataFrame.interpolate with object dtype is deprecated and will raise in a future version. Call obj.infer_objects(copy=False) before interpolating instead.\n",
            "  df.interpolate(method='time', limit_direction='both', inplace=True)\n"
          ]
        }
      ]
    },
    {
      "cell_type": "markdown",
      "source": [
        "## 4) Exploratory Data Analysis (EDA)"
      ],
      "metadata": {
        "id": "GKy5ggrMSwtP"
      }
    },
    {
      "cell_type": "markdown",
      "source": [
        "**Create output folders for EDA**"
      ],
      "metadata": {
        "id": "jUgzgTtvTLsR"
      }
    },
    {
      "cell_type": "code",
      "source": [
        "os.makedirs(cfg.eda_output_dir, exist_ok=True)"
      ],
      "metadata": {
        "id": "QutZEU6oS2js"
      },
      "execution_count": 11,
      "outputs": []
    },
    {
      "cell_type": "markdown",
      "source": [
        "**Missing values**"
      ],
      "metadata": {
        "id": "J91KsnSXTQUz"
      }
    },
    {
      "cell_type": "code",
      "source": [
        "tab_missing = data_pre.isna().sum().to_frame('missing_count')\n",
        "tab_missing.to_csv(os.path.join(cfg.eda_output_dir,'missing_values.csv'))"
      ],
      "metadata": {
        "id": "GaDgS0JzTV8I"
      },
      "execution_count": 12,
      "outputs": []
    },
    {
      "cell_type": "markdown",
      "source": [
        "**Class Balance**"
      ],
      "metadata": {
        "id": "C8su6H4wTe05"
      }
    },
    {
      "cell_type": "code",
      "source": [
        "counts = data_pre['trial_type'].value_counts()\n",
        "percents = data_pre['trial_type'].value_counts(normalize=True)*100\n",
        "\n",
        "pd.DataFrame({'count':counts,'percent':percents})\\\n",
        "  .to_csv(os.path.join(cfg.eda_output_dir,'class_balance.csv'))"
      ],
      "metadata": {
        "id": "QHLiYgRoTi2B"
      },
      "execution_count": 13,
      "outputs": []
    },
    {
      "cell_type": "code",
      "source": [
        "plt.figure()\n",
        "counts.plot(kind='bar')\n",
        "plt.title('Class Counts')\n",
        "plt.savefig(os.path.join(cfg.eda_output_dir,'class_counts.png'))"
      ],
      "metadata": {
        "colab": {
          "base_uri": "https://localhost:8080/",
          "height": 528
        },
        "id": "rQzhPRlhTorV",
        "outputId": "47db27da-ee3c-40c7-d9ec-10cef494dc97"
      },
      "execution_count": 14,
      "outputs": [
        {
          "output_type": "display_data",
          "data": {
            "text/plain": [
              "<Figure size 640x480 with 1 Axes>"
            ],
            "image/png": "[encoded data removed]"
          },
          "metadata": {}
        }
      ]
    },
    {
      "cell_type": "markdown",
      "source": [
        "**Example Time Series**"
      ],
      "metadata": {
        "id": "c-k0zaKyT7im"
      }
    },
    {
      "cell_type": "code",
      "source": [
        "first_sub = data_pre[data_pre['trial_type']=='Falls']['subject'].iloc[0]\n",
        "win = data_pre[(data_pre['subject']==first_sub)&(data_pre['trial_type']=='Falls')].iloc[:cfg.sampling_rate_hz*5]\n",
        "\n",
        "plt.figure()\n",
        "plt.plot(win['Time_s'], win[f\"{cfg.locations[0]} Acceleration X (m/s^2)\"])\n",
        "plt.title('Sample Acc X')\n",
        "plt.savefig(os.path.join(cfg.eda_output_dir,'sample_ts.png'))"
      ],
      "metadata": {
        "colab": {
          "base_uri": "https://localhost:8080/",
          "height": 470
        },
        "id": "8Ts-FduoT9yx",
        "outputId": "ef930a2d-b25b-4562-8e41-1035191a63ad"
      },
      "execution_count": 15,
      "outputs": [
        {
          "output_type": "display_data",
          "data": {
            "text/plain": [
              "<Figure size 640x480 with 1 Axes>"
            ],
            "image/png": "[encoded data removed]"
          },
          "metadata": {}
        }
      ]
    },
    {
      "cell_type": "markdown",
      "source": [
        "**Histograms and Outliers of Magnitudes**"
      ],
      "metadata": {
        "id": "0v_cVkVzT-bJ"
      }
    },
    {
      "cell_type": "code",
      "source": [
        "for loc in cfg.locations:\n",
        "    cols = [f\"{loc} Acceleration {ax} (m/s^2)\" for ax in ['X','Y','Z']]\n",
        "    if all(c in data_pre for c in cols):\n",
        "        data_pre[f\"{loc}_acc_mag\"] = np.linalg.norm(data_pre[cols],axis=1)\n",
        "\n",
        "mag_cols = [c for c in data_pre if c.endswith('_acc_mag')]"
      ],
      "metadata": {
        "id": "bqpzVXM8T_Ps"
      },
      "execution_count": 16,
      "outputs": []
    },
    {
      "cell_type": "code",
      "source": [
        "outlier_summary={}\n",
        "\n",
        "for c in mag_cols:\n",
        "    series=data_pre[c].dropna()\n",
        "\n",
        "    sns.histplot(series,bins=50,kde=True)\n",
        "    plt.title(c)\n",
        "    plt.savefig(os.path.join(cfg.eda_output_dir,f'hist_{c}.png'))\n",
        "    plt.close()\n",
        "\n",
        "    Q1,Q3=series.quantile([0.25,0.75]); IQR=Q3-Q1\n",
        "    mask=(series<(Q1-1.5*IQR))|(series>(Q3+1.5*IQR))\n",
        "    outlier_summary[c]=mask.sum()\n",
        "\n",
        "    sns.boxplot(x=series)\n",
        "    plt.title(f'Boxplot {c}')\n",
        "    plt.savefig(os.path.join(cfg.eda_output_dir,f'box_{c}.png'))\n",
        "    plt.close()"
      ],
      "metadata": {
        "id": "TD7lDnyNUaQr"
      },
      "execution_count": 17,
      "outputs": []
    },
    {
      "cell_type": "code",
      "source": [
        "pd.Series(outlier_summary,name='outliers').to_csv(os.path.join(cfg.eda_output_dir,'outliers.csv'))"
      ],
      "metadata": {
        "id": "syzoJh7cUgrx"
      },
      "execution_count": 18,
      "outputs": []
    },
    {
      "cell_type": "markdown",
      "source": [
        "**Correlation**"
      ],
      "metadata": {
        "id": "QxxuJmJ9UCkc"
      }
    },
    {
      "cell_type": "code",
      "source": [
        "corr=data_pre[mag_cols].corr()\n",
        "\n",
        "sns.heatmap(corr, cmap='viridis', annot=True)\n",
        "plt.title('Corr Matrix')\n",
        "plt.savefig(os.path.join(cfg.eda_output_dir,'corr_matrix.png'))"
      ],
      "metadata": {
        "colab": {
          "base_uri": "https://localhost:8080/",
          "height": 565
        },
        "id": "Wr41TQz_UFe_",
        "outputId": "8c8e826c-36d4-467c-8869-d9769cef338b"
      },
      "execution_count": 19,
      "outputs": [
        {
          "output_type": "display_data",
          "data": {
            "text/plain": [
              "<Figure size 640x480 with 2 Axes>"
            ],
            "image/png": "[encoded data removed]"
          },
          "metadata": {}
        }
      ]
    },
    {
      "cell_type": "markdown",
      "source": [
        "## 5) Feature Extraction and Split"
      ],
      "metadata": {
        "id": "3d0EtYeJU50b"
      }
    },
    {
      "cell_type": "markdown",
      "source": [
        "**Feature extraction function using sliding windows**"
      ],
      "metadata": {
        "id": "GPBU6an8VZ4O"
      }
    },
    {
      "cell_type": "markdown",
      "source": [
        "Sliding-window feature extraction:\n",
        "- For each subject & trial_type, slide a window of cfg.window_size over the data with step cfg.step_size\n",
        "- Compute mean and variance of the 3 axis magnitude for Acceleration, Angular Velocity, Magnetic Field\n",
        "- **This is a problem of binary classification:** Label = 1 for Falls, 0 otherwise"
      ],
      "metadata": {
        "id": "sQqw-YxykpvC"
      }
    },
    {
      "cell_type": "code",
      "source": [
        "def extract_features(df: pd.DataFrame, cfg: Config) -> pd.DataFrame:\n",
        "    records = []\n",
        "\n",
        "    # Map measure -> unit suffix\n",
        "    unit_map = {\n",
        "        'Acceleration':    '(m/s^2)',\n",
        "        'Angular Velocity':'(rad/s)',\n",
        "        'Magnetic Field':  '(uT)'\n",
        "    }\n",
        "\n",
        "    for (subj, ttype), seg in df.groupby(['subject','trial_type']):\n",
        "        seg = seg.reset_index(drop=True)\n",
        "        n_samples = len(seg)\n",
        "        for start in range(0, n_samples - cfg.window_size + 1, cfg.step_size):\n",
        "            window = seg.iloc[start:start + cfg.window_size]\n",
        "            feats = {}\n",
        "\n",
        "            # Calculate mean and variance of magnitude per sensor and type\n",
        "            for loc in cfg.locations:\n",
        "                for measure, unit in unit_map.items():\n",
        "                    # Build the exact column names -> Example \"r.ankle Acceleration X (m/s^2)\"\n",
        "                    cols = [f\"{loc} {measure} {ax} {unit}\" for ax in ['X','Y','Z']]\n",
        "                    if all(col in window.columns for col in cols):\n",
        "                        vals = window[cols].values  # shape (window_size, 3)\n",
        "                        mag = np.linalg.norm(vals, axis=1)\n",
        "                        feats[f\"{loc}_{measure}_mag_mean\"] = mag.mean()\n",
        "                        feats[f\"{loc}_{measure}_mag_var\"]  = mag.var()\n",
        "                    else:\n",
        "                        # Catch missing columns\n",
        "                        missing = [col for col in cols if col not in window.columns]\n",
        "                        print(f\"Missing columns for {loc} {measure}: {missing}\")\n",
        "\n",
        "            # Assign label and subject\n",
        "            feats['label']   = int(cfg.trial_types[ttype] == 1)\n",
        "            feats['subject'] = subj\n",
        "\n",
        "            records.append(feats)\n",
        "\n",
        "    feat_df = pd.DataFrame(records)\n",
        "\n",
        "    # Sanity check\n",
        "    if feat_df.shape[1] <= 2:\n",
        "        raise RuntimeError(\"No feature columns extracted -> check column names in unit_map\")\n",
        "\n",
        "    return feat_df"
      ],
      "metadata": {
        "id": "AO4m1izTU8XB"
      },
      "execution_count": 20,
      "outputs": []
    },
    {
      "cell_type": "code",
      "source": [
        "features_df = extract_features(data_pre, cfg)"
      ],
      "metadata": {
        "id": "Qif9v0WxW0M2"
      },
      "execution_count": 21,
      "outputs": []
    },
    {
      "cell_type": "markdown",
      "source": [
        "Save features for inspection"
      ],
      "metadata": {
        "id": "tJ_9KiGWW3IK"
      }
    },
    {
      "cell_type": "code",
      "source": [
        "features_df.to_csv('features_windows.csv', index=False)"
      ],
      "metadata": {
        "id": "wQWLAp4lW2oc"
      },
      "execution_count": 22,
      "outputs": []
    },
    {
      "cell_type": "markdown",
      "source": [
        "**Splitting and scaling**"
      ],
      "metadata": {
        "id": "CUi5PK9vWnB3"
      }
    },
    {
      "cell_type": "markdown",
      "source": [
        "Check how many windows per subject"
      ],
      "metadata": {
        "id": "K-CtLnE2g6-u"
      }
    },
    {
      "cell_type": "code",
      "source": [
        "print(features_df['subject'].value_counts())"
      ],
      "metadata": {
        "colab": {
          "base_uri": "https://localhost:8080/"
        },
        "id": "0FjXrjn3g5ZN",
        "outputId": "b3efc829-0fd9-4241-b29c-7997c744c89c"
      },
      "execution_count": 23,
      "outputs": [
        {
          "output_type": "stream",
          "name": "stdout",
          "text": [
            "subject\n",
            "sub2    924\n",
            "sub3    924\n",
            "sub4    924\n",
            "sub5    924\n",
            "sub7    924\n",
            "sub6    924\n",
            "sub8    924\n",
            "sub1    919\n",
            "Name: count, dtype: int64\n"
          ]
        }
      ]
    },
    {
      "cell_type": "code",
      "source": [
        "print(repr(list(features_df['subject'].unique())))"
      ],
      "metadata": {
        "colab": {
          "base_uri": "https://localhost:8080/"
        },
        "id": "zoVnGI4ziHj6",
        "outputId": "04139ddf-b73d-4e3b-faca-e8a1250ba9ea"
      },
      "execution_count": 24,
      "outputs": [
        {
          "output_type": "stream",
          "name": "stdout",
          "text": [
            "['sub1', 'sub2', 'sub3', 'sub4', 'sub5', 'sub6', 'sub7', 'sub8']\n"
          ]
        }
      ]
    },
    {
      "cell_type": "code",
      "source": [
        "# 1) Get clean unique subjects\n",
        "subs = features_df['subject'].unique()\n",
        "\n",
        "# 2) Split them into train/val/test lists\n",
        "train_subj, test_subj = train_test_split(subs, test_size=0.2, random_state=42)\n",
        "train_subj, val_subj  = train_test_split(train_subj, test_size=0.25, random_state=42)\n",
        "\n",
        "print(\"Train subjects:\", train_subj)\n",
        "print(\"Val   subjects:\", val_subj)\n",
        "print(\"Test  subjects:\", test_subj)\n",
        "\n",
        "# 3) Slice by boolean mask\n",
        "X = features_df.drop(columns=['label','subject'])\n",
        "y = features_df['label']\n",
        "\n",
        "X_train = X[features_df['subject'].isin(train_subj)]\n",
        "y_train = y[features_df['subject'].isin(train_subj)]\n",
        "\n",
        "X_val   = X[features_df['subject'].isin(val_subj)]\n",
        "y_val   = y[features_df['subject'].isin(val_subj)]\n",
        "\n",
        "X_test  = X[features_df['subject'].isin(test_subj)]\n",
        "y_test  = y[features_df['subject'].isin(test_subj)]\n",
        "\n",
        "# 4) Check none are empty\n",
        "for name, Xs in [('train',X_train),('val',X_val),('test',X_test)]:\n",
        "    print(f\"{name} split shape: {Xs.shape}\")\n",
        "\n",
        "# 5) Scale\n",
        "scaler = MinMaxScaler()\n",
        "X_train = pd.DataFrame(scaler.fit_transform(X_train), columns=X_train.columns)\n",
        "X_val   = pd.DataFrame(scaler.transform(X_val),   columns=X_val.columns)\n",
        "X_test  = pd.DataFrame(scaler.transform(X_test),  columns=X_test.columns)"
      ],
      "metadata": {
        "colab": {
          "base_uri": "https://localhost:8080/"
        },
        "id": "xl94GtbmiXNT",
        "outputId": "44552586-45c2-4a22-982d-75455fd2ddbf"
      },
      "execution_count": 25,
      "outputs": [
        {
          "output_type": "stream",
          "name": "stdout",
          "text": [
            "Train subjects: ['sub7' 'sub3' 'sub4' 'sub5']\n",
            "Val   subjects: ['sub1' 'sub8']\n",
            "Test  subjects: ['sub2' 'sub6']\n",
            "train split shape: (3696, 42)\n",
            "val split shape: (1843, 42)\n",
            "test split shape: (1848, 42)\n"
          ]
        }
      ]
    },
    {
      "cell_type": "markdown",
      "source": [
        "View resulting shapes"
      ],
      "metadata": {
        "id": "25LUjZ3rW_4U"
      }
    },
    {
      "cell_type": "code",
      "source": [
        "sets = {\n",
        "    'X_train': X_train,\n",
        "    'y_train': y_train,\n",
        "    'X_val':   X_val,\n",
        "    'y_val':   y_val,\n",
        "    'X_test':  X_test,\n",
        "    'y_test':  y_test\n",
        "}"
      ],
      "metadata": {
        "id": "UyjIIhfTlwNU"
      },
      "execution_count": 26,
      "outputs": []
    },
    {
      "cell_type": "code",
      "source": [
        "display({k: v.shape for k,v in sets.items()})"
      ],
      "metadata": {
        "colab": {
          "base_uri": "https://localhost:8080/",
          "height": 126
        },
        "id": "EIZW4O3VW-cx",
        "outputId": "b8c58c67-716b-430b-9a83-c080b38f37ba"
      },
      "execution_count": 27,
      "outputs": [
        {
          "output_type": "display_data",
          "data": {
            "text/plain": [
              "{'X_train': (3696, 42),\n",
              " 'y_train': (3696,),\n",
              " 'X_val': (1843, 42),\n",
              " 'y_val': (1843,),\n",
              " 'X_test': (1848, 42),\n",
              " 'y_test': (1848,)}"
            ]
          },
          "metadata": {}
        }
      ]
    },
    {
      "cell_type": "markdown",
      "source": [
        "## 6) Saving data for training phase"
      ],
      "metadata": {
        "id": "DEfCiUE4XbGi"
      }
    },
    {
      "cell_type": "markdown",
      "source": [
        "Create folder to save data"
      ],
      "metadata": {
        "id": "D2jxogmEXho2"
      }
    },
    {
      "cell_type": "code",
      "source": [
        "processed_dir = 'processed_data'\n",
        "os.makedirs(processed_dir, exist_ok=True)"
      ],
      "metadata": {
        "id": "dvcxOPg4XhIJ"
      },
      "execution_count": 28,
      "outputs": []
    },
    {
      "cell_type": "markdown",
      "source": [
        "Save them as joblib (Binary, it's faster for big dataframes)"
      ],
      "metadata": {
        "id": "GkzLkTVhXktT"
      }
    },
    {
      "cell_type": "code",
      "source": [
        "joblib.dump(sets['X_train'], os.path.join(processed_dir, 'X_train.joblib'))\n",
        "joblib.dump(sets['y_train'], os.path.join(processed_dir, 'y_train.joblib'))\n",
        "joblib.dump(sets['X_val'],   os.path.join(processed_dir, 'X_val.joblib'))\n",
        "joblib.dump(sets['y_val'],   os.path.join(processed_dir, 'y_val.joblib'))\n",
        "joblib.dump(sets['X_test'],  os.path.join(processed_dir, 'X_test.joblib'))\n",
        "joblib.dump(sets['y_test'],  os.path.join(processed_dir, 'y_test.joblib'))\n",
        "\n",
        "print(\"All datasets saved to:\", processed_dir)"
      ],
      "metadata": {
        "colab": {
          "base_uri": "https://localhost:8080/"
        },
        "id": "YCqPMOEnXodt",
        "outputId": "773d3875-5dc2-4fc2-ce5d-e1a87ad51694"
      },
      "execution_count": 29,
      "outputs": [
        {
          "output_type": "stream",
          "name": "stdout",
          "text": [
            "All datasets saved to: processed_data\n"
          ]
        }
      ]
    },
    {
      "cell_type": "markdown",
      "source": [
        "**Zip folders to download them**\n",
        "<br>If you are in local (your computer), this block is not necessary"
      ],
      "metadata": {
        "id": "y3nYD7krmhVx"
      }
    },
    {
      "cell_type": "code",
      "source": [
        "!zip -r eda_outputs.zip /content/eda_outputs\n",
        "!zip -r processed_data.zip /content/processed_data"
      ],
      "metadata": {
        "colab": {
          "base_uri": "https://localhost:8080/"
        },
        "id": "HC7YilD3mi3D",
        "outputId": "2ad39ebf-4f0b-47af-a2b4-666b25ff4906"
      },
      "execution_count": 30,
      "outputs": [
        {
          "output_type": "stream",
          "name": "stdout",
          "text": [
            "updating: content/eda_outputs/ (stored 0%)\n",
            "updating: content/eda_outputs/corr_matrix.png (deflated 8%)\n",
            "updating: content/eda_outputs/hist_l.ankle_acc_mag.png (deflated 12%)\n",
            "updating: content/eda_outputs/hist_l.thigh_acc_mag.png (deflated 13%)\n",
            "updating: content/eda_outputs/box_sternum_acc_mag.png (deflated 23%)\n",
            "updating: content/eda_outputs/hist_waist_acc_mag.png (deflated 14%)\n",
            "updating: content/eda_outputs/box_r.ankle_acc_mag.png (deflated 24%)\n",
            "updating: content/eda_outputs/box_head_acc_mag.png (deflated 23%)\n",
            "updating: content/eda_outputs/box_r.thigh_acc_mag.png (deflated 24%)\n",
            "updating: content/eda_outputs/missing_values.csv (deflated 85%)\n",
            "updating: content/eda_outputs/hist_r.ankle_acc_mag.png (deflated 13%)\n",
            "updating: content/eda_outputs/sample_ts.png (deflated 4%)\n",
            "updating: content/eda_outputs/box_l.ankle_acc_mag.png (deflated 24%)\n",
            "updating: content/eda_outputs/outliers.csv (deflated 42%)\n",
            "updating: content/eda_outputs/box_l.thigh_acc_mag.png (deflated 24%)\n",
            "updating: content/eda_outputs/hist_sternum_acc_mag.png (deflated 13%)\n",
            "updating: content/eda_outputs/box_waist_acc_mag.png (deflated 23%)\n",
            "updating: content/eda_outputs/class_balance.csv (deflated 13%)\n",
            "updating: content/eda_outputs/hist_r.thigh_acc_mag.png (deflated 14%)\n",
            "updating: content/eda_outputs/hist_head_acc_mag.png (deflated 14%)\n",
            "updating: content/eda_outputs/class_counts.png (deflated 25%)\n",
            "updating: content/processed_data/ (stored 0%)\n",
            "updating: content/processed_data/X_test.joblib (deflated 6%)\n",
            "updating: content/processed_data/y_test.joblib (deflated 94%)\n",
            "updating: content/processed_data/X_val.joblib (deflated 6%)\n",
            "updating: content/processed_data/y_train.joblib (deflated 90%)\n",
            "updating: content/processed_data/X_train.joblib (deflated 6%)\n",
            "updating: content/processed_data/y_val.joblib (deflated 94%)\n"
          ]
        }
      ]
    }
  ]
}