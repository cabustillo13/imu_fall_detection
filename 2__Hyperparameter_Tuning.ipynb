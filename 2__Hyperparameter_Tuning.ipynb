{
  "cells": [
    {
      "cell_type": "markdown",
      "metadata": {
        "id": "nMjypD3h17fI"
      },
      "source": [
        "# Model Development\n",
        "\n",
        "**Carlos Bustillo | Prosigliere Tech Interview**\n",
        "<br>I'm using GPU T4 on Google Colab"
      ]
    },
    {
      "cell_type": "markdown",
      "metadata": {
        "id": "aK70D7AU2FT1"
      },
      "source": [
        "## 0) Dependencies"
      ]
    },
    {
      "cell_type": "code",
      "execution_count": 1,
      "metadata": {
        "colab": {
          "base_uri": "https://localhost:8080/"
        },
        "id": "dSj4xEHU52zJ",
        "outputId": "1f637fdd-18cb-4594-a33d-a0369e33ae9b"
      },
      "outputs": [
        {
          "output_type": "stream",
          "name": "stdout",
          "text": [
            "Requirement already satisfied: xgboost in /usr/local/lib/python3.11/dist-packages (2.1.4)\n",
            "Requirement already satisfied: numpy in /usr/local/lib/python3.11/dist-packages (from xgboost) (2.0.2)\n",
            "Requirement already satisfied: nvidia-nccl-cu12 in /usr/local/lib/python3.11/dist-packages (from xgboost) (2.21.5)\n",
            "Requirement already satisfied: scipy in /usr/local/lib/python3.11/dist-packages (from xgboost) (1.15.3)\n"
          ]
        }
      ],
      "source": [
        "!pip3 install xgboost"
      ]
    },
    {
      "cell_type": "code",
      "execution_count": 2,
      "metadata": {
        "id": "qEZ8dmPi1rOL"
      },
      "outputs": [],
      "source": [
        "import os\n",
        "import joblib\n",
        "import itertools\n",
        "\n",
        "import numpy as np\n",
        "from sklearn.metrics import f1_score, classification_report, roc_auc_score\n",
        "from imblearn.combine import SMOTEENN\n",
        "from sklearn.preprocessing import StandardScaler\n",
        "\n",
        "from sklearn.ensemble import RandomForestClassifier\n",
        "from sklearn.svm import SVC\n",
        "from xgboost import XGBClassifier"
      ]
    },
    {
      "cell_type": "markdown",
      "metadata": {
        "id": "3So97I0Y4uUd"
      },
      "source": [
        "## 1) Load datasets"
      ]
    },
    {
      "cell_type": "markdown",
      "source": [
        "Load from local all the cleaned data\n",
        "<br>They were obtained using the first notebook (0__EDA.ipynb)"
      ],
      "metadata": {
        "id": "1KtK29c67cOV"
      }
    },
    {
      "cell_type": "code",
      "source": [
        "!unzip \"/content/processed_data.zip\""
      ],
      "metadata": {
        "colab": {
          "base_uri": "https://localhost:8080/"
        },
        "id": "DqNySDi_6QBO",
        "outputId": "ab44a838-899e-4db5-dc66-651268416ad4"
      },
      "execution_count": 3,
      "outputs": [
        {
          "output_type": "stream",
          "name": "stdout",
          "text": [
            "Archive:  /content/processed_data.zip\n",
            "   creating: content/processed_data/\n",
            "  inflating: content/processed_data/X_test.joblib  \n",
            "  inflating: content/processed_data/y_test.joblib  \n",
            "  inflating: content/processed_data/X_val.joblib  \n",
            "  inflating: content/processed_data/y_train.joblib  \n",
            "  inflating: content/processed_data/X_train.joblib  \n",
            "  inflating: content/processed_data/y_val.joblib  \n"
          ]
        }
      ]
    },
    {
      "cell_type": "code",
      "execution_count": 4,
      "metadata": {
        "id": "Tz_HjhnF4xlF"
      },
      "outputs": [],
      "source": [
        "processed_dir = \"/content/content/processed_data\"\n",
        "\n",
        "X_train = joblib.load(os.path.join(processed_dir, \"X_train.joblib\"))\n",
        "y_train = joblib.load(os.path.join(processed_dir, \"y_train.joblib\"))\n",
        "X_val   = joblib.load(os.path.join(processed_dir, \"X_val.joblib\"))\n",
        "y_val   = joblib.load(os.path.join(processed_dir, \"y_val.joblib\"))\n",
        "X_test  = joblib.load(os.path.join(processed_dir, \"X_test.joblib\"))\n",
        "y_test  = joblib.load(os.path.join(processed_dir, \"y_test.joblib\"))"
      ]
    },
    {
      "cell_type": "markdown",
      "metadata": {
        "id": "juz9KoXO41Ml"
      },
      "source": [
        "## 2) Define models"
      ]
    },
    {
      "cell_type": "markdown",
      "source": [
        "**Random Forest**"
      ],
      "metadata": {
        "id": "Kp6fVmhGLus7"
      }
    },
    {
      "cell_type": "code",
      "execution_count": 5,
      "metadata": {
        "id": "EN7siwRH448D"
      },
      "outputs": [],
      "source": [
        "def train_rf_with_params(params):\n",
        "    sm = SMOTEENN(random_state=42)\n",
        "    X_res, y_res = sm.fit_resample(X_train, y_train)\n",
        "\n",
        "    model = RandomForestClassifier(**params, random_state=42, n_jobs=-1)\n",
        "    model.fit(X_res, y_res)\n",
        "    y_pred = model.predict(X_val)\n",
        "    f1 = f1_score(y_val, y_pred)\n",
        "    return f1, model\n",
        "\n",
        "param_grid_rf = {\n",
        "    'n_estimators': [100, 200, 500, 1000],\n",
        "    'max_depth': [10, 20, 50, 100],\n",
        "    'min_samples_split': [2, 5, 10],\n",
        "    'min_samples_leaf': [1, 10]\n",
        "}"
      ]
    },
    {
      "cell_type": "markdown",
      "source": [
        "**SVM (with scaled data)**"
      ],
      "metadata": {
        "id": "4thy_yh-Lyfq"
      }
    },
    {
      "cell_type": "code",
      "source": [
        "def train_svm_with_params(params):\n",
        "    sm = SMOTEENN(random_state=42)\n",
        "    X_res, y_res = sm.fit_resample(X_train, y_train)\n",
        "\n",
        "    scaler = StandardScaler()\n",
        "    X_res_scaled = scaler.fit_transform(X_res)\n",
        "    X_val_scaled = scaler.transform(X_val)\n",
        "\n",
        "    model = SVC(**params, probability=True, random_state=42)\n",
        "    model.fit(X_res_scaled, y_res)\n",
        "    y_pred = model.predict(X_val_scaled)\n",
        "    f1 = f1_score(y_val, y_pred)\n",
        "    return f1, model, scaler\n",
        "\n",
        "param_grid_svm = {\n",
        "    'C': [0.1, 1, 10],\n",
        "    'gamma': ['scale', 'auto'],\n",
        "    'kernel': ['rbf']\n",
        "}"
      ],
      "metadata": {
        "id": "GgicglSIL_Sj"
      },
      "execution_count": 6,
      "outputs": []
    },
    {
      "cell_type": "markdown",
      "source": [
        "**XGBoost**"
      ],
      "metadata": {
        "id": "Tr9WosFBMFBg"
      }
    },
    {
      "cell_type": "code",
      "source": [
        "def train_xgb_with_params(params):\n",
        "    sm = SMOTEENN(random_state=42)\n",
        "    X_res, y_res = sm.fit_resample(X_train, y_train)\n",
        "\n",
        "    model = XGBClassifier(eval_metric='logloss', **params, random_state=42)\n",
        "    model.fit(X_res, y_res)\n",
        "    y_pred = model.predict(X_val)\n",
        "    f1 = f1_score(y_val, y_pred)\n",
        "    return f1, model\n",
        "\n",
        "param_grid_xgb = {\n",
        "    'n_estimators': [100, 200, 500, 1000],\n",
        "    'max_depth': [4, 6, 10, 50, 100],\n",
        "    'learning_rate': [0.01, 0.1],\n",
        "    'subsample': [0.7, 1.0]\n",
        "}"
      ],
      "metadata": {
        "id": "PtCcW5ulMG5P"
      },
      "execution_count": 12,
      "outputs": []
    },
    {
      "cell_type": "markdown",
      "metadata": {
        "id": "AXKR42g848kB"
      },
      "source": [
        "## 3) Run Tunning"
      ]
    },
    {
      "cell_type": "code",
      "source": [
        "def run_grid_manual(param_grid, train_func, model_name, use_scaler=False):\n",
        "    all_params = list(itertools.product(*param_grid.values()))\n",
        "    param_names = list(param_grid.keys())\n",
        "\n",
        "    best_score = 0\n",
        "    best_model = None\n",
        "    best_scaler = None\n",
        "    best_params = None\n",
        "\n",
        "    for values in all_params:\n",
        "        params = dict(zip(param_names, values))\n",
        "        if use_scaler:\n",
        "            score, model, scaler = train_func(params)\n",
        "        else:\n",
        "            score, model = train_func(params)\n",
        "        print(f\"{model_name} Params: {params} -> F1: {score:.4f}\")\n",
        "\n",
        "        if score > best_score:\n",
        "            best_score = score\n",
        "            best_model = model\n",
        "            best_params = params\n",
        "            if use_scaler:\n",
        "                best_scaler = scaler\n",
        "\n",
        "    print(f\"\\nBest {model_name} Params: {best_params}\")\n",
        "    print(f\"Best F1 on Validation: {best_score:.4f}\")\n",
        "    return best_model, best_scaler if use_scaler else None"
      ],
      "metadata": {
        "id": "cqKBJIHDK_MS"
      },
      "execution_count": 8,
      "outputs": []
    },
    {
      "cell_type": "markdown",
      "source": [
        "**Random Forest**"
      ],
      "metadata": {
        "id": "LzKBV6hBMiJ6"
      }
    },
    {
      "cell_type": "code",
      "source": [
        "best_rf, _ = run_grid_manual(param_grid_rf, train_rf_with_params, \"Random Forest\")"
      ],
      "metadata": {
        "colab": {
          "base_uri": "https://localhost:8080/"
        },
        "id": "tevpEzGsMlsX",
        "outputId": "a504c58a-0b10-4bcd-e1af-a92cb04e5d77"
      },
      "execution_count": 9,
      "outputs": [
        {
          "output_type": "stream",
          "name": "stdout",
          "text": [
            "Random Forest Params: {'n_estimators': 100, 'max_depth': 10, 'min_samples_split': 2, 'min_samples_leaf': 1} -> F1: 0.6961\n",
            "Random Forest Params: {'n_estimators': 100, 'max_depth': 10, 'min_samples_split': 2, 'min_samples_leaf': 10} -> F1: 0.6851\n",
            "Random Forest Params: {'n_estimators': 100, 'max_depth': 10, 'min_samples_split': 5, 'min_samples_leaf': 1} -> F1: 0.6908\n",
            "Random Forest Params: {'n_estimators': 100, 'max_depth': 10, 'min_samples_split': 5, 'min_samples_leaf': 10} -> F1: 0.6851\n",
            "Random Forest Params: {'n_estimators': 100, 'max_depth': 10, 'min_samples_split': 10, 'min_samples_leaf': 1} -> F1: 0.6910\n",
            "Random Forest Params: {'n_estimators': 100, 'max_depth': 10, 'min_samples_split': 10, 'min_samples_leaf': 10} -> F1: 0.6851\n",
            "Random Forest Params: {'n_estimators': 100, 'max_depth': 20, 'min_samples_split': 2, 'min_samples_leaf': 1} -> F1: 0.7175\n",
            "Random Forest Params: {'n_estimators': 100, 'max_depth': 20, 'min_samples_split': 2, 'min_samples_leaf': 10} -> F1: 0.6953\n",
            "Random Forest Params: {'n_estimators': 100, 'max_depth': 20, 'min_samples_split': 5, 'min_samples_leaf': 1} -> F1: 0.6968\n",
            "Random Forest Params: {'n_estimators': 100, 'max_depth': 20, 'min_samples_split': 5, 'min_samples_leaf': 10} -> F1: 0.6953\n",
            "Random Forest Params: {'n_estimators': 100, 'max_depth': 20, 'min_samples_split': 10, 'min_samples_leaf': 1} -> F1: 0.6980\n",
            "Random Forest Params: {'n_estimators': 100, 'max_depth': 20, 'min_samples_split': 10, 'min_samples_leaf': 10} -> F1: 0.6953\n",
            "Random Forest Params: {'n_estimators': 100, 'max_depth': 50, 'min_samples_split': 2, 'min_samples_leaf': 1} -> F1: 0.7102\n",
            "Random Forest Params: {'n_estimators': 100, 'max_depth': 50, 'min_samples_split': 2, 'min_samples_leaf': 10} -> F1: 0.6963\n",
            "Random Forest Params: {'n_estimators': 100, 'max_depth': 50, 'min_samples_split': 5, 'min_samples_leaf': 1} -> F1: 0.7030\n",
            "Random Forest Params: {'n_estimators': 100, 'max_depth': 50, 'min_samples_split': 5, 'min_samples_leaf': 10} -> F1: 0.6963\n",
            "Random Forest Params: {'n_estimators': 100, 'max_depth': 50, 'min_samples_split': 10, 'min_samples_leaf': 1} -> F1: 0.6927\n",
            "Random Forest Params: {'n_estimators': 100, 'max_depth': 50, 'min_samples_split': 10, 'min_samples_leaf': 10} -> F1: 0.6963\n",
            "Random Forest Params: {'n_estimators': 100, 'max_depth': 100, 'min_samples_split': 2, 'min_samples_leaf': 1} -> F1: 0.7102\n",
            "Random Forest Params: {'n_estimators': 100, 'max_depth': 100, 'min_samples_split': 2, 'min_samples_leaf': 10} -> F1: 0.6963\n",
            "Random Forest Params: {'n_estimators': 100, 'max_depth': 100, 'min_samples_split': 5, 'min_samples_leaf': 1} -> F1: 0.7030\n",
            "Random Forest Params: {'n_estimators': 100, 'max_depth': 100, 'min_samples_split': 5, 'min_samples_leaf': 10} -> F1: 0.6963\n",
            "Random Forest Params: {'n_estimators': 100, 'max_depth': 100, 'min_samples_split': 10, 'min_samples_leaf': 1} -> F1: 0.6927\n",
            "Random Forest Params: {'n_estimators': 100, 'max_depth': 100, 'min_samples_split': 10, 'min_samples_leaf': 10} -> F1: 0.6963\n",
            "Random Forest Params: {'n_estimators': 200, 'max_depth': 10, 'min_samples_split': 2, 'min_samples_leaf': 1} -> F1: 0.6880\n",
            "Random Forest Params: {'n_estimators': 200, 'max_depth': 10, 'min_samples_split': 2, 'min_samples_leaf': 10} -> F1: 0.6809\n",
            "Random Forest Params: {'n_estimators': 200, 'max_depth': 10, 'min_samples_split': 5, 'min_samples_leaf': 1} -> F1: 0.6895\n",
            "Random Forest Params: {'n_estimators': 200, 'max_depth': 10, 'min_samples_split': 5, 'min_samples_leaf': 10} -> F1: 0.6809\n",
            "Random Forest Params: {'n_estimators': 200, 'max_depth': 10, 'min_samples_split': 10, 'min_samples_leaf': 1} -> F1: 0.6885\n",
            "Random Forest Params: {'n_estimators': 200, 'max_depth': 10, 'min_samples_split': 10, 'min_samples_leaf': 10} -> F1: 0.6809\n",
            "Random Forest Params: {'n_estimators': 200, 'max_depth': 20, 'min_samples_split': 2, 'min_samples_leaf': 1} -> F1: 0.7162\n",
            "Random Forest Params: {'n_estimators': 200, 'max_depth': 20, 'min_samples_split': 2, 'min_samples_leaf': 10} -> F1: 0.6919\n",
            "Random Forest Params: {'n_estimators': 200, 'max_depth': 20, 'min_samples_split': 5, 'min_samples_leaf': 1} -> F1: 0.7046\n",
            "Random Forest Params: {'n_estimators': 200, 'max_depth': 20, 'min_samples_split': 5, 'min_samples_leaf': 10} -> F1: 0.6919\n",
            "Random Forest Params: {'n_estimators': 200, 'max_depth': 20, 'min_samples_split': 10, 'min_samples_leaf': 1} -> F1: 0.7014\n",
            "Random Forest Params: {'n_estimators': 200, 'max_depth': 20, 'min_samples_split': 10, 'min_samples_leaf': 10} -> F1: 0.6919\n",
            "Random Forest Params: {'n_estimators': 200, 'max_depth': 50, 'min_samples_split': 2, 'min_samples_leaf': 1} -> F1: 0.7061\n",
            "Random Forest Params: {'n_estimators': 200, 'max_depth': 50, 'min_samples_split': 2, 'min_samples_leaf': 10} -> F1: 0.6924\n",
            "Random Forest Params: {'n_estimators': 200, 'max_depth': 50, 'min_samples_split': 5, 'min_samples_leaf': 1} -> F1: 0.7130\n",
            "Random Forest Params: {'n_estimators': 200, 'max_depth': 50, 'min_samples_split': 5, 'min_samples_leaf': 10} -> F1: 0.6924\n",
            "Random Forest Params: {'n_estimators': 200, 'max_depth': 50, 'min_samples_split': 10, 'min_samples_leaf': 1} -> F1: 0.6972\n",
            "Random Forest Params: {'n_estimators': 200, 'max_depth': 50, 'min_samples_split': 10, 'min_samples_leaf': 10} -> F1: 0.6924\n",
            "Random Forest Params: {'n_estimators': 200, 'max_depth': 100, 'min_samples_split': 2, 'min_samples_leaf': 1} -> F1: 0.7061\n",
            "Random Forest Params: {'n_estimators': 200, 'max_depth': 100, 'min_samples_split': 2, 'min_samples_leaf': 10} -> F1: 0.6924\n",
            "Random Forest Params: {'n_estimators': 200, 'max_depth': 100, 'min_samples_split': 5, 'min_samples_leaf': 1} -> F1: 0.7130\n",
            "Random Forest Params: {'n_estimators': 200, 'max_depth': 100, 'min_samples_split': 5, 'min_samples_leaf': 10} -> F1: 0.6924\n",
            "Random Forest Params: {'n_estimators': 200, 'max_depth': 100, 'min_samples_split': 10, 'min_samples_leaf': 1} -> F1: 0.6972\n",
            "Random Forest Params: {'n_estimators': 200, 'max_depth': 100, 'min_samples_split': 10, 'min_samples_leaf': 10} -> F1: 0.6924\n",
            "Random Forest Params: {'n_estimators': 500, 'max_depth': 10, 'min_samples_split': 2, 'min_samples_leaf': 1} -> F1: 0.6885\n",
            "Random Forest Params: {'n_estimators': 500, 'max_depth': 10, 'min_samples_split': 2, 'min_samples_leaf': 10} -> F1: 0.6774\n",
            "Random Forest Params: {'n_estimators': 500, 'max_depth': 10, 'min_samples_split': 5, 'min_samples_leaf': 1} -> F1: 0.6843\n",
            "Random Forest Params: {'n_estimators': 500, 'max_depth': 10, 'min_samples_split': 5, 'min_samples_leaf': 10} -> F1: 0.6774\n",
            "Random Forest Params: {'n_estimators': 500, 'max_depth': 10, 'min_samples_split': 10, 'min_samples_leaf': 1} -> F1: 0.6880\n",
            "Random Forest Params: {'n_estimators': 500, 'max_depth': 10, 'min_samples_split': 10, 'min_samples_leaf': 10} -> F1: 0.6774\n",
            "Random Forest Params: {'n_estimators': 500, 'max_depth': 20, 'min_samples_split': 2, 'min_samples_leaf': 1} -> F1: 0.7147\n",
            "Random Forest Params: {'n_estimators': 500, 'max_depth': 20, 'min_samples_split': 2, 'min_samples_leaf': 10} -> F1: 0.6869\n",
            "Random Forest Params: {'n_estimators': 500, 'max_depth': 20, 'min_samples_split': 5, 'min_samples_leaf': 1} -> F1: 0.7048\n",
            "Random Forest Params: {'n_estimators': 500, 'max_depth': 20, 'min_samples_split': 5, 'min_samples_leaf': 10} -> F1: 0.6869\n",
            "Random Forest Params: {'n_estimators': 500, 'max_depth': 20, 'min_samples_split': 10, 'min_samples_leaf': 1} -> F1: 0.6982\n",
            "Random Forest Params: {'n_estimators': 500, 'max_depth': 20, 'min_samples_split': 10, 'min_samples_leaf': 10} -> F1: 0.6869\n",
            "Random Forest Params: {'n_estimators': 500, 'max_depth': 50, 'min_samples_split': 2, 'min_samples_leaf': 1} -> F1: 0.7109\n",
            "Random Forest Params: {'n_estimators': 500, 'max_depth': 50, 'min_samples_split': 2, 'min_samples_leaf': 10} -> F1: 0.6928\n",
            "Random Forest Params: {'n_estimators': 500, 'max_depth': 50, 'min_samples_split': 5, 'min_samples_leaf': 1} -> F1: 0.7075\n",
            "Random Forest Params: {'n_estimators': 500, 'max_depth': 50, 'min_samples_split': 5, 'min_samples_leaf': 10} -> F1: 0.6928\n",
            "Random Forest Params: {'n_estimators': 500, 'max_depth': 50, 'min_samples_split': 10, 'min_samples_leaf': 1} -> F1: 0.6941\n",
            "Random Forest Params: {'n_estimators': 500, 'max_depth': 50, 'min_samples_split': 10, 'min_samples_leaf': 10} -> F1: 0.6928\n",
            "Random Forest Params: {'n_estimators': 500, 'max_depth': 100, 'min_samples_split': 2, 'min_samples_leaf': 1} -> F1: 0.7109\n",
            "Random Forest Params: {'n_estimators': 500, 'max_depth': 100, 'min_samples_split': 2, 'min_samples_leaf': 10} -> F1: 0.6928\n",
            "Random Forest Params: {'n_estimators': 500, 'max_depth': 100, 'min_samples_split': 5, 'min_samples_leaf': 1} -> F1: 0.7075\n",
            "Random Forest Params: {'n_estimators': 500, 'max_depth': 100, 'min_samples_split': 5, 'min_samples_leaf': 10} -> F1: 0.6928\n",
            "Random Forest Params: {'n_estimators': 500, 'max_depth': 100, 'min_samples_split': 10, 'min_samples_leaf': 1} -> F1: 0.6941\n",
            "Random Forest Params: {'n_estimators': 500, 'max_depth': 100, 'min_samples_split': 10, 'min_samples_leaf': 10} -> F1: 0.6928\n",
            "Random Forest Params: {'n_estimators': 1000, 'max_depth': 10, 'min_samples_split': 2, 'min_samples_leaf': 1} -> F1: 0.6900\n",
            "Random Forest Params: {'n_estimators': 1000, 'max_depth': 10, 'min_samples_split': 2, 'min_samples_leaf': 10} -> F1: 0.6834\n",
            "Random Forest Params: {'n_estimators': 1000, 'max_depth': 10, 'min_samples_split': 5, 'min_samples_leaf': 1} -> F1: 0.6877\n",
            "Random Forest Params: {'n_estimators': 1000, 'max_depth': 10, 'min_samples_split': 5, 'min_samples_leaf': 10} -> F1: 0.6834\n",
            "Random Forest Params: {'n_estimators': 1000, 'max_depth': 10, 'min_samples_split': 10, 'min_samples_leaf': 1} -> F1: 0.6876\n",
            "Random Forest Params: {'n_estimators': 1000, 'max_depth': 10, 'min_samples_split': 10, 'min_samples_leaf': 10} -> F1: 0.6834\n",
            "Random Forest Params: {'n_estimators': 1000, 'max_depth': 20, 'min_samples_split': 2, 'min_samples_leaf': 1} -> F1: 0.7136\n",
            "Random Forest Params: {'n_estimators': 1000, 'max_depth': 20, 'min_samples_split': 2, 'min_samples_leaf': 10} -> F1: 0.6949\n",
            "Random Forest Params: {'n_estimators': 1000, 'max_depth': 20, 'min_samples_split': 5, 'min_samples_leaf': 1} -> F1: 0.7082\n",
            "Random Forest Params: {'n_estimators': 1000, 'max_depth': 20, 'min_samples_split': 5, 'min_samples_leaf': 10} -> F1: 0.6949\n",
            "Random Forest Params: {'n_estimators': 1000, 'max_depth': 20, 'min_samples_split': 10, 'min_samples_leaf': 1} -> F1: 0.6992\n",
            "Random Forest Params: {'n_estimators': 1000, 'max_depth': 20, 'min_samples_split': 10, 'min_samples_leaf': 10} -> F1: 0.6949\n",
            "Random Forest Params: {'n_estimators': 1000, 'max_depth': 50, 'min_samples_split': 2, 'min_samples_leaf': 1} -> F1: 0.7142\n",
            "Random Forest Params: {'n_estimators': 1000, 'max_depth': 50, 'min_samples_split': 2, 'min_samples_leaf': 10} -> F1: 0.6945\n",
            "Random Forest Params: {'n_estimators': 1000, 'max_depth': 50, 'min_samples_split': 5, 'min_samples_leaf': 1} -> F1: 0.7078\n",
            "Random Forest Params: {'n_estimators': 1000, 'max_depth': 50, 'min_samples_split': 5, 'min_samples_leaf': 10} -> F1: 0.6945\n",
            "Random Forest Params: {'n_estimators': 1000, 'max_depth': 50, 'min_samples_split': 10, 'min_samples_leaf': 1} -> F1: 0.6973\n",
            "Random Forest Params: {'n_estimators': 1000, 'max_depth': 50, 'min_samples_split': 10, 'min_samples_leaf': 10} -> F1: 0.6945\n",
            "Random Forest Params: {'n_estimators': 1000, 'max_depth': 100, 'min_samples_split': 2, 'min_samples_leaf': 1} -> F1: 0.7142\n",
            "Random Forest Params: {'n_estimators': 1000, 'max_depth': 100, 'min_samples_split': 2, 'min_samples_leaf': 10} -> F1: 0.6945\n",
            "Random Forest Params: {'n_estimators': 1000, 'max_depth': 100, 'min_samples_split': 5, 'min_samples_leaf': 1} -> F1: 0.7078\n",
            "Random Forest Params: {'n_estimators': 1000, 'max_depth': 100, 'min_samples_split': 5, 'min_samples_leaf': 10} -> F1: 0.6945\n",
            "Random Forest Params: {'n_estimators': 1000, 'max_depth': 100, 'min_samples_split': 10, 'min_samples_leaf': 1} -> F1: 0.6973\n",
            "Random Forest Params: {'n_estimators': 1000, 'max_depth': 100, 'min_samples_split': 10, 'min_samples_leaf': 10} -> F1: 0.6945\n",
            "\n",
            "Best Random Forest Params: {'n_estimators': 100, 'max_depth': 20, 'min_samples_split': 2, 'min_samples_leaf': 1}\n",
            "Best F1 on Validation: 0.7175\n"
          ]
        }
      ]
    },
    {
      "cell_type": "markdown",
      "source": [
        "**SVM**"
      ],
      "metadata": {
        "id": "6Q2B58mrMmxw"
      }
    },
    {
      "cell_type": "code",
      "source": [
        "best_svm, best_scaler_svm = run_grid_manual(param_grid_svm, train_svm_with_params, \"SVM\", use_scaler=True)"
      ],
      "metadata": {
        "colab": {
          "base_uri": "https://localhost:8080/"
        },
        "id": "pZd5g6wJMod2",
        "outputId": "054a1c4e-53cd-469c-a01e-9b453a720ed1"
      },
      "execution_count": 10,
      "outputs": [
        {
          "output_type": "stream",
          "name": "stdout",
          "text": [
            "SVM Params: {'C': 0.1, 'gamma': 'scale', 'kernel': 'rbf'} -> F1: 0.6218\n",
            "SVM Params: {'C': 0.1, 'gamma': 'auto', 'kernel': 'rbf'} -> F1: 0.6218\n",
            "SVM Params: {'C': 1, 'gamma': 'scale', 'kernel': 'rbf'} -> F1: 0.6812\n",
            "SVM Params: {'C': 1, 'gamma': 'auto', 'kernel': 'rbf'} -> F1: 0.6812\n",
            "SVM Params: {'C': 10, 'gamma': 'scale', 'kernel': 'rbf'} -> F1: 0.6763\n",
            "SVM Params: {'C': 10, 'gamma': 'auto', 'kernel': 'rbf'} -> F1: 0.6763\n",
            "\n",
            "Best SVM Params: {'C': 1, 'gamma': 'scale', 'kernel': 'rbf'}\n",
            "Best F1 on Validation: 0.6812\n"
          ]
        }
      ]
    },
    {
      "cell_type": "markdown",
      "source": [
        "**XGBoost**"
      ],
      "metadata": {
        "id": "gFh3q-sDMpgn"
      }
    },
    {
      "cell_type": "code",
      "source": [
        "best_xgb, _ = run_grid_manual(param_grid_xgb, train_xgb_with_params, \"XGBoost\")"
      ],
      "metadata": {
        "colab": {
          "base_uri": "https://localhost:8080/"
        },
        "id": "l1y7JtnqK6zW",
        "outputId": "e6579ee9-cd97-47d4-dace-ffafad5166fd"
      },
      "execution_count": 13,
      "outputs": [
        {
          "output_type": "stream",
          "name": "stdout",
          "text": [
            "XGBoost Params: {'n_estimators': 100, 'max_depth': 4, 'learning_rate': 0.01, 'subsample': 0.7} -> F1: 0.6723\n",
            "XGBoost Params: {'n_estimators': 100, 'max_depth': 4, 'learning_rate': 0.01, 'subsample': 1.0} -> F1: 0.6672\n",
            "XGBoost Params: {'n_estimators': 100, 'max_depth': 4, 'learning_rate': 0.1, 'subsample': 0.7} -> F1: 0.7146\n",
            "XGBoost Params: {'n_estimators': 100, 'max_depth': 4, 'learning_rate': 0.1, 'subsample': 1.0} -> F1: 0.7020\n",
            "XGBoost Params: {'n_estimators': 100, 'max_depth': 6, 'learning_rate': 0.01, 'subsample': 0.7} -> F1: 0.6874\n",
            "XGBoost Params: {'n_estimators': 100, 'max_depth': 6, 'learning_rate': 0.01, 'subsample': 1.0} -> F1: 0.6709\n",
            "XGBoost Params: {'n_estimators': 100, 'max_depth': 6, 'learning_rate': 0.1, 'subsample': 0.7} -> F1: 0.7259\n",
            "XGBoost Params: {'n_estimators': 100, 'max_depth': 6, 'learning_rate': 0.1, 'subsample': 1.0} -> F1: 0.7067\n",
            "XGBoost Params: {'n_estimators': 100, 'max_depth': 10, 'learning_rate': 0.01, 'subsample': 0.7} -> F1: 0.7020\n",
            "XGBoost Params: {'n_estimators': 100, 'max_depth': 10, 'learning_rate': 0.01, 'subsample': 1.0} -> F1: 0.6516\n",
            "XGBoost Params: {'n_estimators': 100, 'max_depth': 10, 'learning_rate': 0.1, 'subsample': 0.7} -> F1: 0.7233\n",
            "XGBoost Params: {'n_estimators': 100, 'max_depth': 10, 'learning_rate': 0.1, 'subsample': 1.0} -> F1: 0.7101\n",
            "XGBoost Params: {'n_estimators': 100, 'max_depth': 50, 'learning_rate': 0.01, 'subsample': 0.7} -> F1: 0.6996\n",
            "XGBoost Params: {'n_estimators': 100, 'max_depth': 50, 'learning_rate': 0.01, 'subsample': 1.0} -> F1: 0.6416\n",
            "XGBoost Params: {'n_estimators': 100, 'max_depth': 50, 'learning_rate': 0.1, 'subsample': 0.7} -> F1: 0.7181\n",
            "XGBoost Params: {'n_estimators': 100, 'max_depth': 50, 'learning_rate': 0.1, 'subsample': 1.0} -> F1: 0.7039\n",
            "XGBoost Params: {'n_estimators': 100, 'max_depth': 100, 'learning_rate': 0.01, 'subsample': 0.7} -> F1: 0.6996\n",
            "XGBoost Params: {'n_estimators': 100, 'max_depth': 100, 'learning_rate': 0.01, 'subsample': 1.0} -> F1: 0.6416\n",
            "XGBoost Params: {'n_estimators': 100, 'max_depth': 100, 'learning_rate': 0.1, 'subsample': 0.7} -> F1: 0.7181\n",
            "XGBoost Params: {'n_estimators': 100, 'max_depth': 100, 'learning_rate': 0.1, 'subsample': 1.0} -> F1: 0.7039\n",
            "XGBoost Params: {'n_estimators': 200, 'max_depth': 4, 'learning_rate': 0.01, 'subsample': 0.7} -> F1: 0.6777\n",
            "XGBoost Params: {'n_estimators': 200, 'max_depth': 4, 'learning_rate': 0.01, 'subsample': 1.0} -> F1: 0.6734\n",
            "XGBoost Params: {'n_estimators': 200, 'max_depth': 4, 'learning_rate': 0.1, 'subsample': 0.7} -> F1: 0.7228\n",
            "XGBoost Params: {'n_estimators': 200, 'max_depth': 4, 'learning_rate': 0.1, 'subsample': 1.0} -> F1: 0.7134\n",
            "XGBoost Params: {'n_estimators': 200, 'max_depth': 6, 'learning_rate': 0.01, 'subsample': 0.7} -> F1: 0.6914\n",
            "XGBoost Params: {'n_estimators': 200, 'max_depth': 6, 'learning_rate': 0.01, 'subsample': 1.0} -> F1: 0.6811\n",
            "XGBoost Params: {'n_estimators': 200, 'max_depth': 6, 'learning_rate': 0.1, 'subsample': 0.7} -> F1: 0.7193\n",
            "XGBoost Params: {'n_estimators': 200, 'max_depth': 6, 'learning_rate': 0.1, 'subsample': 1.0} -> F1: 0.7199\n",
            "XGBoost Params: {'n_estimators': 200, 'max_depth': 10, 'learning_rate': 0.01, 'subsample': 0.7} -> F1: 0.7059\n",
            "XGBoost Params: {'n_estimators': 200, 'max_depth': 10, 'learning_rate': 0.01, 'subsample': 1.0} -> F1: 0.6834\n",
            "XGBoost Params: {'n_estimators': 200, 'max_depth': 10, 'learning_rate': 0.1, 'subsample': 0.7} -> F1: 0.7161\n",
            "XGBoost Params: {'n_estimators': 200, 'max_depth': 10, 'learning_rate': 0.1, 'subsample': 1.0} -> F1: 0.7108\n",
            "XGBoost Params: {'n_estimators': 200, 'max_depth': 50, 'learning_rate': 0.01, 'subsample': 0.7} -> F1: 0.7079\n",
            "XGBoost Params: {'n_estimators': 200, 'max_depth': 50, 'learning_rate': 0.01, 'subsample': 1.0} -> F1: 0.6710\n",
            "XGBoost Params: {'n_estimators': 200, 'max_depth': 50, 'learning_rate': 0.1, 'subsample': 0.7} -> F1: 0.7157\n",
            "XGBoost Params: {'n_estimators': 200, 'max_depth': 50, 'learning_rate': 0.1, 'subsample': 1.0} -> F1: 0.7108\n",
            "XGBoost Params: {'n_estimators': 200, 'max_depth': 100, 'learning_rate': 0.01, 'subsample': 0.7} -> F1: 0.7079\n",
            "XGBoost Params: {'n_estimators': 200, 'max_depth': 100, 'learning_rate': 0.01, 'subsample': 1.0} -> F1: 0.6710\n",
            "XGBoost Params: {'n_estimators': 200, 'max_depth': 100, 'learning_rate': 0.1, 'subsample': 0.7} -> F1: 0.7157\n",
            "XGBoost Params: {'n_estimators': 200, 'max_depth': 100, 'learning_rate': 0.1, 'subsample': 1.0} -> F1: 0.7108\n",
            "XGBoost Params: {'n_estimators': 500, 'max_depth': 4, 'learning_rate': 0.01, 'subsample': 0.7} -> F1: 0.6936\n",
            "XGBoost Params: {'n_estimators': 500, 'max_depth': 4, 'learning_rate': 0.01, 'subsample': 1.0} -> F1: 0.6880\n",
            "XGBoost Params: {'n_estimators': 500, 'max_depth': 4, 'learning_rate': 0.1, 'subsample': 0.7} -> F1: 0.7189\n",
            "XGBoost Params: {'n_estimators': 500, 'max_depth': 4, 'learning_rate': 0.1, 'subsample': 1.0} -> F1: 0.7256\n",
            "XGBoost Params: {'n_estimators': 500, 'max_depth': 6, 'learning_rate': 0.01, 'subsample': 0.7} -> F1: 0.7115\n",
            "XGBoost Params: {'n_estimators': 500, 'max_depth': 6, 'learning_rate': 0.01, 'subsample': 1.0} -> F1: 0.7100\n",
            "XGBoost Params: {'n_estimators': 500, 'max_depth': 6, 'learning_rate': 0.1, 'subsample': 0.7} -> F1: 0.7181\n",
            "XGBoost Params: {'n_estimators': 500, 'max_depth': 6, 'learning_rate': 0.1, 'subsample': 1.0} -> F1: 0.7261\n",
            "XGBoost Params: {'n_estimators': 500, 'max_depth': 10, 'learning_rate': 0.01, 'subsample': 0.7} -> F1: 0.7257\n",
            "XGBoost Params: {'n_estimators': 500, 'max_depth': 10, 'learning_rate': 0.01, 'subsample': 1.0} -> F1: 0.7062\n",
            "XGBoost Params: {'n_estimators': 500, 'max_depth': 10, 'learning_rate': 0.1, 'subsample': 0.7} -> F1: 0.7139\n",
            "XGBoost Params: {'n_estimators': 500, 'max_depth': 10, 'learning_rate': 0.1, 'subsample': 1.0} -> F1: 0.7123\n",
            "XGBoost Params: {'n_estimators': 500, 'max_depth': 50, 'learning_rate': 0.01, 'subsample': 0.7} -> F1: 0.7199\n",
            "XGBoost Params: {'n_estimators': 500, 'max_depth': 50, 'learning_rate': 0.01, 'subsample': 1.0} -> F1: 0.6990\n",
            "XGBoost Params: {'n_estimators': 500, 'max_depth': 50, 'learning_rate': 0.1, 'subsample': 0.7} -> F1: 0.7118\n",
            "XGBoost Params: {'n_estimators': 500, 'max_depth': 50, 'learning_rate': 0.1, 'subsample': 1.0} -> F1: 0.7076\n",
            "XGBoost Params: {'n_estimators': 500, 'max_depth': 100, 'learning_rate': 0.01, 'subsample': 0.7} -> F1: 0.7199\n",
            "XGBoost Params: {'n_estimators': 500, 'max_depth': 100, 'learning_rate': 0.01, 'subsample': 1.0} -> F1: 0.6990\n",
            "XGBoost Params: {'n_estimators': 500, 'max_depth': 100, 'learning_rate': 0.1, 'subsample': 0.7} -> F1: 0.7118\n",
            "XGBoost Params: {'n_estimators': 500, 'max_depth': 100, 'learning_rate': 0.1, 'subsample': 1.0} -> F1: 0.7076\n",
            "XGBoost Params: {'n_estimators': 1000, 'max_depth': 4, 'learning_rate': 0.01, 'subsample': 0.7} -> F1: 0.7159\n",
            "XGBoost Params: {'n_estimators': 1000, 'max_depth': 4, 'learning_rate': 0.01, 'subsample': 1.0} -> F1: 0.6999\n",
            "XGBoost Params: {'n_estimators': 1000, 'max_depth': 4, 'learning_rate': 0.1, 'subsample': 0.7} -> F1: 0.7202\n",
            "XGBoost Params: {'n_estimators': 1000, 'max_depth': 4, 'learning_rate': 0.1, 'subsample': 1.0} -> F1: 0.7284\n",
            "XGBoost Params: {'n_estimators': 1000, 'max_depth': 6, 'learning_rate': 0.01, 'subsample': 0.7} -> F1: 0.7198\n",
            "XGBoost Params: {'n_estimators': 1000, 'max_depth': 6, 'learning_rate': 0.01, 'subsample': 1.0} -> F1: 0.7148\n",
            "XGBoost Params: {'n_estimators': 1000, 'max_depth': 6, 'learning_rate': 0.1, 'subsample': 0.7} -> F1: 0.7157\n",
            "XGBoost Params: {'n_estimators': 1000, 'max_depth': 6, 'learning_rate': 0.1, 'subsample': 1.0} -> F1: 0.7270\n",
            "XGBoost Params: {'n_estimators': 1000, 'max_depth': 10, 'learning_rate': 0.01, 'subsample': 0.7} -> F1: 0.7278\n",
            "XGBoost Params: {'n_estimators': 1000, 'max_depth': 10, 'learning_rate': 0.01, 'subsample': 1.0} -> F1: 0.7151\n",
            "XGBoost Params: {'n_estimators': 1000, 'max_depth': 10, 'learning_rate': 0.1, 'subsample': 0.7} -> F1: 0.7108\n",
            "XGBoost Params: {'n_estimators': 1000, 'max_depth': 10, 'learning_rate': 0.1, 'subsample': 1.0} -> F1: 0.7087\n",
            "XGBoost Params: {'n_estimators': 1000, 'max_depth': 50, 'learning_rate': 0.01, 'subsample': 0.7} -> F1: 0.7266\n",
            "XGBoost Params: {'n_estimators': 1000, 'max_depth': 50, 'learning_rate': 0.01, 'subsample': 1.0} -> F1: 0.7048\n",
            "XGBoost Params: {'n_estimators': 1000, 'max_depth': 50, 'learning_rate': 0.1, 'subsample': 0.7} -> F1: 0.7101\n",
            "XGBoost Params: {'n_estimators': 1000, 'max_depth': 50, 'learning_rate': 0.1, 'subsample': 1.0} -> F1: 0.7066\n",
            "XGBoost Params: {'n_estimators': 1000, 'max_depth': 100, 'learning_rate': 0.01, 'subsample': 0.7} -> F1: 0.7266\n",
            "XGBoost Params: {'n_estimators': 1000, 'max_depth': 100, 'learning_rate': 0.01, 'subsample': 1.0} -> F1: 0.7048\n",
            "XGBoost Params: {'n_estimators': 1000, 'max_depth': 100, 'learning_rate': 0.1, 'subsample': 0.7} -> F1: 0.7101\n",
            "XGBoost Params: {'n_estimators': 1000, 'max_depth': 100, 'learning_rate': 0.1, 'subsample': 1.0} -> F1: 0.7066\n",
            "\n",
            "Best XGBoost Params: {'n_estimators': 1000, 'max_depth': 4, 'learning_rate': 0.1, 'subsample': 1.0}\n",
            "Best F1 on Validation: 0.7284\n"
          ]
        }
      ]
    },
    {
      "cell_type": "markdown",
      "source": [
        "## 4) Final Test with test set"
      ],
      "metadata": {
        "id": "t4h3rLVmMulM"
      }
    },
    {
      "cell_type": "code",
      "source": [
        "def evaluate_model(model, X_test, y_test, name, scaler=None):\n",
        "    X_eval = scaler.transform(X_test) if scaler else X_test\n",
        "    y_pred = model.predict(X_eval)\n",
        "    y_proba = model.predict_proba(X_eval)[:, 1]\n",
        "\n",
        "    print(f\"\\nClassification Report: {name}\")\n",
        "    print(classification_report(y_test, y_pred))\n",
        "    print(f\"ROC AUC: {roc_auc_score(y_test, y_proba):.4f}\")"
      ],
      "metadata": {
        "id": "UapRURBuMwN7"
      },
      "execution_count": 14,
      "outputs": []
    },
    {
      "cell_type": "markdown",
      "source": [
        "**Random Forest**"
      ],
      "metadata": {
        "id": "56Mued1oM7y_"
      }
    },
    {
      "cell_type": "code",
      "source": [
        "evaluate_model(best_rf, X_test, y_test, \"Random Forest\")"
      ],
      "metadata": {
        "colab": {
          "base_uri": "https://localhost:8080/"
        },
        "id": "4E11gMg5M4h_",
        "outputId": "20100189-7def-4428-b654-c1bb08334092"
      },
      "execution_count": 15,
      "outputs": [
        {
          "output_type": "stream",
          "name": "stdout",
          "text": [
            "\n",
            "Classification Report: Random Forest\n",
            "              precision    recall  f1-score   support\n",
            "\n",
            "           0       0.84      0.83      0.84      1222\n",
            "           1       0.68      0.70      0.69       626\n",
            "\n",
            "    accuracy                           0.79      1848\n",
            "   macro avg       0.76      0.76      0.76      1848\n",
            "weighted avg       0.79      0.79      0.79      1848\n",
            "\n",
            "ROC AUC: 0.8501\n"
          ]
        }
      ]
    },
    {
      "cell_type": "markdown",
      "source": [
        "**SVM**"
      ],
      "metadata": {
        "id": "WegwegS2M-J8"
      }
    },
    {
      "cell_type": "code",
      "source": [
        "evaluate_model(best_svm, X_test, y_test, \"SVM\", scaler=best_scaler_svm)"
      ],
      "metadata": {
        "colab": {
          "base_uri": "https://localhost:8080/"
        },
        "id": "8v6URwPEM5ZM",
        "outputId": "9a46fe4b-2b86-4881-bb2f-97259baa56bf"
      },
      "execution_count": 16,
      "outputs": [
        {
          "output_type": "stream",
          "name": "stdout",
          "text": [
            "\n",
            "Classification Report: SVM\n",
            "              precision    recall  f1-score   support\n",
            "\n",
            "           0       0.85      0.66      0.74      1222\n",
            "           1       0.54      0.78      0.64       626\n",
            "\n",
            "    accuracy                           0.70      1848\n",
            "   macro avg       0.69      0.72      0.69      1848\n",
            "weighted avg       0.75      0.70      0.71      1848\n",
            "\n",
            "ROC AUC: 0.7828\n"
          ]
        }
      ]
    },
    {
      "cell_type": "markdown",
      "source": [
        "**XGBoost**"
      ],
      "metadata": {
        "id": "0jqYSetQNAES"
      }
    },
    {
      "cell_type": "code",
      "source": [
        "evaluate_model(best_xgb, X_test, y_test, \"XGBoost\")"
      ],
      "metadata": {
        "colab": {
          "base_uri": "https://localhost:8080/"
        },
        "id": "VgxB3363M3lx",
        "outputId": "3eb33080-2733-45bb-b586-42751c750493"
      },
      "execution_count": 17,
      "outputs": [
        {
          "output_type": "stream",
          "name": "stdout",
          "text": [
            "\n",
            "Classification Report: XGBoost\n",
            "              precision    recall  f1-score   support\n",
            "\n",
            "           0       0.86      0.80      0.83      1222\n",
            "           1       0.66      0.75      0.71       626\n",
            "\n",
            "    accuracy                           0.79      1848\n",
            "   macro avg       0.76      0.78      0.77      1848\n",
            "weighted avg       0.80      0.79      0.79      1848\n",
            "\n",
            "ROC AUC: 0.8534\n"
          ]
        }
      ]
    },
    {
      "cell_type": "markdown",
      "source": [
        "## 5) Save the best models"
      ],
      "metadata": {
        "id": "1jl7GazGNc0I"
      }
    },
    {
      "cell_type": "code",
      "source": [
        "joblib.dump(best_rf, \"best_rf.joblib\")\n",
        "joblib.dump((best_svm, best_scaler_svm), \"best_svm_with_scaler.joblib\")\n",
        "joblib.dump(best_xgb, \"best_xgb.joblib\")"
      ],
      "metadata": {
        "colab": {
          "base_uri": "https://localhost:8080/"
        },
        "id": "H-z1G3RwNgUe",
        "outputId": "f9a3467c-f4a7-4650-a90c-c622f5a72198"
      },
      "execution_count": 18,
      "outputs": [
        {
          "output_type": "execute_result",
          "data": {
            "text/plain": [
              "['best_xgb.joblib']"
            ]
          },
          "metadata": {},
          "execution_count": 18
        }
      ]
    }
  ],
  "metadata": {
    "accelerator": "GPU",
    "colab": {
      "gpuType": "T4",
      "provenance": []
    },
    "kernelspec": {
      "display_name": "Python 3",
      "name": "python3"
    },
    "language_info": {
      "name": "python"
    }
  },
  "nbformat": 4,
  "nbformat_minor": 0
}